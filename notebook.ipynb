{
 "cells": [
  {
   "cell_type": "markdown",
   "metadata": {},
   "source": [
    "# Spaceship Titanic"
   ]
  },
  {
   "cell_type": "markdown",
   "metadata": {},
   "source": [
    "## Data Cleaning and Pipeline"
   ]
  },
  {
   "cell_type": "code",
   "execution_count": 1005,
   "metadata": {},
   "outputs": [
    {
     "data": {
      "text/plain": [
       "Index(['CryoSleep', 'Age', 'VIP', 'RoomService', 'FoodCourt', 'ShoppingMall',\n",
       "       'Spa', 'VRDeck', 'Transported', 'group', 'pp', 'last_name', 'Num',\n",
       "       'Deck_A', 'Deck_B', 'Deck_C', 'Deck_D', 'Deck_E', 'Deck_F', 'Deck_G',\n",
       "       'Deck_T', 'Deck_Unknown', 'Side_P', 'Side_S', 'Side_Unknown',\n",
       "       'HomePlanet_Earth', 'HomePlanet_Europa', 'HomePlanet_Mars',\n",
       "       'HomePlanet_Unknown', 'Destination_55 Cancri e', 'Destination_Earth',\n",
       "       'Destination_Europa', 'Destination_Mars', 'Destination_PSO J318.5-22',\n",
       "       'Destination_TRAPPIST-1e', 'Destination_Unknown'],\n",
       "      dtype='object')"
      ]
     },
     "execution_count": 1005,
     "metadata": {},
     "output_type": "execute_result"
    }
   ],
   "source": [
    "import re\n",
    "import pandas as pd\n",
    "import numpy as np\n",
    "from sklearn.model_selection import train_test_split\n",
    "from sklearn.preprocessing import OneHotEncoder\n",
    "from sklearn.linear_model import LogisticRegression\n",
    "from sklearn.metrics import accuracy_score, confusion_matrix\n",
    "\n",
    "train = pd.read_csv('/Users/adityajoshi/Documents/VisualStudioCode/VSC/Kaggle Comps/Spaceship Titanic/train-SpaceshipTitanic.csv')\n",
    "df5 = pd.DataFrame(train)\n",
    "\n",
    "temp = df5.copy()\n",
    "\n",
    "# Split PassengerId into (group, pp) PassengerId is in the form \"gggg_pp\"\n",
    "temp[\"group\"], temp[\"pp\"] = zip(*temp[\"PassengerId\"].apply(lambda x: re.split(r'_+', x)))\n",
    "temp[\"group\"] = temp[\"group\"].astype(int)\n",
    "temp[\"pp\"] = temp[\"pp\"].astype(int)\n",
    "temp.drop(columns=[\"PassengerId\"], inplace=True)\n",
    "\n",
    "\n",
    "# Impute Age with median and convert to int\n",
    "temp[\"Age\"] = temp[\"Age\"].fillna(temp[\"Age\"].median())\n",
    "temp[\"Age\"] = temp[\"Age\"].round().astype(int)\n",
    "\n",
    "#Fill missing Name with \"FirstName LastName\"\n",
    "temp[\"Name\"] = temp[\"Name\"].fillna(\"FirstName LastName\")\n",
    "\n",
    "# Split Name into first_name and last_name Drop first_name; keep last_name \n",
    "temp['first_name'], temp['last_name'] = zip(*temp['Name'].apply(lambda x: re.split(r'\\s+', x)))\n",
    "temp.drop(columns=[\"Name\", \"first_name\"], inplace=True)\n",
    "\n",
    "# Replace NaN in service columns with 0\n",
    "# We are going to assume that the NaN values in the service_cols implies that the passenger did not use the service. We will replace the NaN values with 0\n",
    "service_cols = [\"RoomService\", \"FoodCourt\", \"ShoppingMall\", \"Spa\", \"VRDeck\"]\n",
    "for col in service_cols:\n",
    "    temp[col] = temp[col].fillna(0)\n",
    "\n",
    "\n",
    "# Split Cabin into Deck, Num, Side\n",
    "temp[\"Deck\"], temp[\"Num\"], temp[\"Side\"] = zip(*temp[\"Cabin\"].fillna(\"Unknown/0/Unknown\").apply(lambda x: re.split(r'/', x)))\n",
    "\n",
    "# One Hot Encoding for Deck and Side\n",
    "temp_pandas_encoded = pd.get_dummies(temp, columns=['Deck', 'Side'], drop_first=False) \n",
    "# Drop Cabin Column\n",
    "temp_pandas_encoded.drop(columns=[\"Cabin\"], inplace=True) \n",
    "temp = temp_pandas_encoded.copy()\n",
    "\n",
    "# Replace NaN in Destination with HomePlanet\n",
    "temp[\"Destination\"] = temp[\"Destination\"].fillna(temp[\"HomePlanet\"])\n",
    "\n",
    "# This qeury will return the rows where CryoSleep is null but the passenger used at least one service, so we assume they did not use CryoSleep. These Nan values will be replaced with False\n",
    "q = temp.query(\"CryoSleep.isnull() & (RoomService != 0 | FoodCourt != 0 | ShoppingMall != 0 | Spa != 0 | VRDeck != 0)\")\n",
    "temp.loc[q.index, \"CryoSleep\"] = False\n",
    "\n",
    "\n",
    "# This query will return the rows where CryoSleep is null and the passenger did not use any services, so we assume they used CryoSleep. These Nan values will be replaced with True\n",
    "v = temp.query(\"CryoSleep.isnull() & RoomService == 0 & FoodCourt == 0 & ShoppingMall == 0 & Spa == 0 & VRDeck == 0\")\n",
    "temp.loc[v.index, \"CryoSleep\"] = True\n",
    "\n",
    "\n",
    "temp.loc[temp[\"VIP\"] == True, \"Age\"].describe() # Observing that 18 is the minimum age for VIP\n",
    "temp.loc[temp[\"VIP\"] == False, \"Age\"].describe()\n",
    "# Replace NaN in VIP with False if Age < 18 \n",
    "q1 = temp.query(\"Age < 18 & VIP.isnull()\")\n",
    "temp.loc[q1.index, \"VIP\"] = False\n",
    "\n",
    "\n",
    "\n",
    "temp.loc[temp[\"VIP\"] == True, \"Deck_G\"].describe() # Observing that are 0 VIP passengers with Deck_G == 1\n",
    "temp.loc[temp[\"VIP\"] == False, \"Deck_G\"].describe()\n",
    "# Replace NaN in VIP with False if Deck_G != 0\n",
    "q2 = temp.query(\"Deck_G != 0 & VIP.isnull()\")\n",
    "temp.loc[q2.index, \"VIP\"] = False\n",
    "\n",
    "\n",
    "# If the absolute difference between the VIP.isna() passenger's row average service spending and the VIP True mean is less than the absolute difference between the VIP.isna() passenger's row average service spending and the VIP False mean, then the passenger is assumed to be a VIP\n",
    "vip_true_mean = (temp.loc[temp[\"VIP\"] == True, service_cols].mean(axis=1).mean())\n",
    "vip_false_mean = (temp.loc[temp[\"VIP\"] == False, service_cols].mean(axis=1).mean())\n",
    "mask_missing = temp[\"VIP\"].isna()\n",
    "row_avg_spend = temp.loc[mask_missing, service_cols].mean(axis=1)\n",
    "temp.loc[mask_missing, \"VIP\"] = ((row_avg_spend - vip_true_mean).abs() < (row_avg_spend - vip_false_mean).abs())\n",
    "\n",
    "\n",
    "\n",
    "# Replace Nan in HomePlanet and Destination with \"Unknown\" and one hot encode \n",
    "temp[\"HomePlanet\"] = temp[\"HomePlanet\"].fillna(\"Unknown\")\n",
    "temp[\"Destination\"] = temp[\"Destination\"].fillna(\"Unknown\")\n",
    "temp_pandas_encoded = pd.get_dummies(temp, columns=['HomePlanet', 'Destination'], drop_first=False)\n",
    "temp = temp_pandas_encoded.copy()\n",
    "\n",
    "for col in temp.columns:\n",
    "    if temp[col].dtype == bool:\n",
    "        temp[col] = temp[col].astype(int)\n",
    "\n",
    "\n",
    "\n",
    "\n",
    "temp.columns\n",
    "\n"
   ]
  }
 ],
 "metadata": {
  "kernelspec": {
   "display_name": "base",
   "language": "python",
   "name": "python3"
  },
  "language_info": {
   "codemirror_mode": {
    "name": "ipython",
    "version": 3
   },
   "file_extension": ".py",
   "mimetype": "text/x-python",
   "name": "python",
   "nbconvert_exporter": "python",
   "pygments_lexer": "ipython3",
   "version": "3.12.7"
  }
 },
 "nbformat": 4,
 "nbformat_minor": 2
}
